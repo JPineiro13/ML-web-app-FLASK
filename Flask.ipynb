{
  "nbformat": 4,
  "nbformat_minor": 0,
  "metadata": {
    "colab": {
      "provenance": []
    },
    "kernelspec": {
      "name": "python3",
      "display_name": "Python 3"
    },
    "language_info": {
      "name": "python"
    }
  },
  "cells": [
    {
      "cell_type": "code",
      "execution_count": null,
      "metadata": {
        "id": "EtP-uu-8q4IP"
      },
      "outputs": [],
      "source": [
        "#En este proyecto voy a utilizar los datos meteorológicos de Madrid entre 1975 y 2015\n",
        "#para crear una"
      ]
    },
    {
      "cell_type": "code",
      "source": [
        "# Asegúrate de tener el archivo en tu Colab. Puedes subirlo manualmente.\n",
        "# Si ya lo tienes en la ruta correcta, salta esta celda.\n",
        "\n",
        "# 1. Importar librerías necesarias\n",
        "import pandas as pd\n",
        "import numpy as np\n",
        "import matplotlib.pyplot as plt\n",
        "import seaborn as sns\n",
        "\n",
        "# 2. Cargar dataset\n",
        "#Updated URL to point to the raw data\n",
        "df = pd.read_csv(\"https://raw.githubusercontent.com/JPineiro13/ML-web-app-FLASK/main/data/Madrid_Daily_Weather_1997-2015.csv\").iloc[:,0:]\n",
        "pd.set_option(\"display.max_columns\", None)\n",
        "df.head()\n",
        "\n",
        "# 3. Primeras filas y forma\n",
        "print(\"Primeras filas del dataset:\")\n",
        "print(df.head())\n",
        "\n",
        "print(\"\\nInformación general:\")\n",
        "print(df.info())\n",
        "\n",
        "print(\"\\nEstadísticas descriptivas:\")\n",
        "print(df.describe(include='all'))\n",
        "\n",
        "# 4. Columnas nulas\n",
        "print(\"\\nValores nulos por columna:\")\n",
        "print(df.isnull().sum())\n",
        "\n",
        "# 5. Comprobar nombres de columnas\n",
        "print(\"\\nNombres de columnas:\")\n",
        "print(df.columns.tolist())"
      ],
      "metadata": {
        "colab": {
          "base_uri": "https://localhost:8080/"
        },
        "id": "NgftTOwgu1uV",
        "outputId": "6b42dd1b-352c-4517-965a-9bdda44e9a9a"
      },
      "execution_count": 2,
      "outputs": [
        {
          "output_type": "stream",
          "name": "stdout",
          "text": [
            "Primeras filas del dataset:\n",
            "          CET  Max TemperatureC  Mean TemperatureC  Min TemperatureC  \\\n",
            "0  1997-01-01               7.0                4.0               2.0   \n",
            "1  1997-01-02               7.0                3.0               0.0   \n",
            "2  1997-01-03               5.0                3.0               2.0   \n",
            "3  1997-01-04               7.0                3.0              -1.0   \n",
            "4  1997-01-05               2.0                0.0              -1.0   \n",
            "\n",
            "   Dew PointC  MeanDew PointC  Min DewpointC  Max Humidity   Mean Humidity  \\\n",
            "0         5.0             3.0            2.0         100.0            95.0   \n",
            "1         6.0             3.0            0.0         100.0            92.0   \n",
            "2         5.0             1.0           -1.0         100.0            85.0   \n",
            "3        -2.0            -3.0           -4.0          86.0            63.0   \n",
            "4         2.0             0.0           -3.0         100.0            95.0   \n",
            "\n",
            "    Min Humidity   Max Sea Level PressurehPa   Mean Sea Level PressurehPa  \\\n",
            "0           76.0                        1010                         1008   \n",
            "1           71.0                        1007                         1003   \n",
            "2           70.0                        1005                          999   \n",
            "3           49.0                        1012                         1010   \n",
            "4           86.0                        1012                         1008   \n",
            "\n",
            "    Min Sea Level PressurehPa   Max VisibilityKm   Mean VisibilityKm  \\\n",
            "0                        1004               10.0                 9.0   \n",
            "1                         997               10.0                 9.0   \n",
            "2                         996               10.0                10.0   \n",
            "3                        1005               10.0                10.0   \n",
            "4                        1005               10.0                 5.0   \n",
            "\n",
            "    Min VisibilitykM   Max Wind SpeedKm/h   Mean Wind SpeedKm/h  \\\n",
            "0                4.0                   13                     6   \n",
            "1                4.0                   26                     8   \n",
            "2                7.0                   27                    19   \n",
            "3               10.0                   27                    19   \n",
            "4                1.0                   14                     6   \n",
            "\n",
            "    Max Gust SpeedKm/h  Precipitationmm   CloudCover     Events  \\\n",
            "0                  NaN              0.0          6.0        NaN   \n",
            "1                 47.0              0.0          5.0       Rain   \n",
            "2                  NaN              0.0          6.0  Rain-Snow   \n",
            "3                 40.0              0.0          2.0        NaN   \n",
            "4                  NaN              0.0          7.0       Snow   \n",
            "\n",
            "   WindDirDegrees  \n",
            "0             229  \n",
            "1             143  \n",
            "2             256  \n",
            "3             284  \n",
            "4               2  \n",
            "\n",
            "Información general:\n",
            "<class 'pandas.core.frame.DataFrame'>\n",
            "RangeIndex: 6812 entries, 0 to 6811\n",
            "Data columns (total 23 columns):\n",
            " #   Column                       Non-Null Count  Dtype  \n",
            "---  ------                       --------------  -----  \n",
            " 0   CET                          6812 non-null   object \n",
            " 1   Max TemperatureC             6810 non-null   float64\n",
            " 2   Mean TemperatureC            6809 non-null   float64\n",
            " 3   Min TemperatureC             6810 non-null   float64\n",
            " 4   Dew PointC                   6810 non-null   float64\n",
            " 5   MeanDew PointC               6810 non-null   float64\n",
            " 6   Min DewpointC                6810 non-null   float64\n",
            " 7   Max Humidity                 6810 non-null   float64\n",
            " 8    Mean Humidity               6810 non-null   float64\n",
            " 9    Min Humidity                6810 non-null   float64\n",
            " 10   Max Sea Level PressurehPa   6812 non-null   int64  \n",
            " 11   Mean Sea Level PressurehPa  6812 non-null   int64  \n",
            " 12   Min Sea Level PressurehPa   6812 non-null   int64  \n",
            " 13   Max VisibilityKm            5872 non-null   float64\n",
            " 14   Mean VisibilityKm           5872 non-null   float64\n",
            " 15   Min VisibilitykM            5872 non-null   float64\n",
            " 16   Max Wind SpeedKm/h          6812 non-null   int64  \n",
            " 17   Mean Wind SpeedKm/h         6812 non-null   int64  \n",
            " 18   Max Gust SpeedKm/h          3506 non-null   float64\n",
            " 19  Precipitationmm              6812 non-null   float64\n",
            " 20   CloudCover                  5440 non-null   float64\n",
            " 21   Events                      1798 non-null   object \n",
            " 22  WindDirDegrees               6812 non-null   int64  \n",
            "dtypes: float64(15), int64(6), object(2)\n",
            "memory usage: 1.2+ MB\n",
            "None\n",
            "\n",
            "Estadísticas descriptivas:\n",
            "               CET  Max TemperatureC  Mean TemperatureC  Min TemperatureC  \\\n",
            "count         6812       6810.000000        6809.000000       6810.000000   \n",
            "unique        6812               NaN                NaN               NaN   \n",
            "top     2015-12-31               NaN                NaN               NaN   \n",
            "freq             1               NaN                NaN               NaN   \n",
            "mean           NaN         21.039648          14.658687          8.640529   \n",
            "std            NaN          8.867187           7.580461          6.837626   \n",
            "min            NaN          0.000000          -3.000000        -10.000000   \n",
            "25%            NaN         13.000000           8.000000          3.000000   \n",
            "50%            NaN         20.000000          14.000000          9.000000   \n",
            "75%            NaN         29.000000          21.000000         14.000000   \n",
            "max            NaN         41.000000          32.000000         28.000000   \n",
            "\n",
            "         Dew PointC  MeanDew PointC  Min DewpointC  Max Humidity  \\\n",
            "count   6810.000000     6810.000000    6810.000000   6810.000000   \n",
            "unique          NaN             NaN            NaN           NaN   \n",
            "top             NaN             NaN            NaN           NaN   \n",
            "freq            NaN             NaN            NaN           NaN   \n",
            "mean       8.120705        4.976211       1.451248     81.139354   \n",
            "std        4.741067        4.654270       4.909705     17.531839   \n",
            "min      -12.000000      -15.000000     -22.000000     16.000000   \n",
            "25%        5.000000        2.000000      -2.000000     68.000000   \n",
            "50%        8.000000        6.000000       2.000000     87.000000   \n",
            "75%       12.000000        8.000000       5.000000     94.000000   \n",
            "max       20.000000       16.000000      14.000000    100.000000   \n",
            "\n",
            "         Mean Humidity   Min Humidity   Max Sea Level PressurehPa  \\\n",
            "count      6810.000000    6810.000000                 6812.000000   \n",
            "unique             NaN            NaN                         NaN   \n",
            "top                NaN            NaN                         NaN   \n",
            "freq               NaN            NaN                         NaN   \n",
            "mean         57.971366      34.729369                 1020.529360   \n",
            "std          19.675744      19.320359                    6.235941   \n",
            "min          15.000000       4.000000                  994.000000   \n",
            "25%          41.000000      19.000000                 1017.000000   \n",
            "50%          59.000000      32.000000                 1020.000000   \n",
            "75%          74.000000      47.750000                 1024.000000   \n",
            "max         100.000000     100.000000                 1047.000000   \n",
            "\n",
            "         Mean Sea Level PressurehPa   Min Sea Level PressurehPa  \\\n",
            "count                   6812.000000                 6812.000000   \n",
            "unique                          NaN                         NaN   \n",
            "top                             NaN                         NaN   \n",
            "freq                            NaN                         NaN   \n",
            "mean                    1017.973136                 1015.217410   \n",
            "std                        6.480085                    6.944745   \n",
            "min                      986.000000                  965.000000   \n",
            "25%                     1014.000000                 1011.000000   \n",
            "50%                     1018.000000                 1015.000000   \n",
            "75%                     1022.000000                 1019.000000   \n",
            "max                     1043.000000                 1041.000000   \n",
            "\n",
            "         Max VisibilityKm   Mean VisibilityKm   Min VisibilitykM  \\\n",
            "count         5872.000000         5872.000000        5872.000000   \n",
            "unique                NaN                 NaN                NaN   \n",
            "top                   NaN                 NaN                NaN   \n",
            "freq                  NaN                 NaN                NaN   \n",
            "mean            14.644074           11.719857           9.134877   \n",
            "std              8.770024            5.592324           5.075065   \n",
            "min              1.000000            0.000000           0.000000   \n",
            "25%             10.000000           10.000000           7.000000   \n",
            "50%             10.000000           10.000000          10.000000   \n",
            "75%             10.000000           10.000000          10.000000   \n",
            "max             31.000000           31.000000          31.000000   \n",
            "\n",
            "         Max Wind SpeedKm/h   Mean Wind SpeedKm/h   Max Gust SpeedKm/h  \\\n",
            "count           6812.000000           6812.000000          3506.000000   \n",
            "unique                  NaN                   NaN                  NaN   \n",
            "top                     NaN                   NaN                  NaN   \n",
            "freq                    NaN                   NaN                  NaN   \n",
            "mean              21.953171              9.170728            43.988306   \n",
            "std                9.903914              5.110013            12.252462   \n",
            "min                0.000000              0.000000            19.000000   \n",
            "25%               14.000000              6.000000            35.000000   \n",
            "50%               21.000000              8.000000            42.000000   \n",
            "75%               27.000000             11.000000            52.000000   \n",
            "max              182.000000             39.000000           103.000000   \n",
            "\n",
            "        Precipitationmm   CloudCover  Events  WindDirDegrees  \n",
            "count       6812.000000  5440.000000    1798     6812.000000  \n",
            "unique              NaN          NaN      15             NaN  \n",
            "top                 NaN          NaN    Rain             NaN  \n",
            "freq                NaN          NaN    1140             NaN  \n",
            "mean           0.111182     3.206066     NaN      197.234586  \n",
            "std            0.967174     1.808948     NaN      119.872777  \n",
            "min            0.000000     0.000000     NaN       -1.000000  \n",
            "25%            0.000000     2.000000     NaN       66.000000  \n",
            "50%            0.000000     3.000000     NaN      223.000000  \n",
            "75%            0.000000     5.000000     NaN      299.000000  \n",
            "max           32.000000     8.000000     NaN      360.000000  \n",
            "\n",
            "Valores nulos por columna:\n",
            "CET                               0\n",
            "Max TemperatureC                  2\n",
            "Mean TemperatureC                 3\n",
            "Min TemperatureC                  2\n",
            "Dew PointC                        2\n",
            "MeanDew PointC                    2\n",
            "Min DewpointC                     2\n",
            "Max Humidity                      2\n",
            " Mean Humidity                    2\n",
            " Min Humidity                     2\n",
            " Max Sea Level PressurehPa        0\n",
            " Mean Sea Level PressurehPa       0\n",
            " Min Sea Level PressurehPa        0\n",
            " Max VisibilityKm               940\n",
            " Mean VisibilityKm              940\n",
            " Min VisibilitykM               940\n",
            " Max Wind SpeedKm/h               0\n",
            " Mean Wind SpeedKm/h              0\n",
            " Max Gust SpeedKm/h            3306\n",
            "Precipitationmm                   0\n",
            " CloudCover                    1372\n",
            " Events                        5014\n",
            "WindDirDegrees                    0\n",
            "dtype: int64\n",
            "\n",
            "Nombres de columnas:\n",
            "['CET', 'Max TemperatureC', 'Mean TemperatureC', 'Min TemperatureC', 'Dew PointC', 'MeanDew PointC', 'Min DewpointC', 'Max Humidity', ' Mean Humidity', ' Min Humidity', ' Max Sea Level PressurehPa', ' Mean Sea Level PressurehPa', ' Min Sea Level PressurehPa', ' Max VisibilityKm', ' Mean VisibilityKm', ' Min VisibilitykM', ' Max Wind SpeedKm/h', ' Mean Wind SpeedKm/h', ' Max Gust SpeedKm/h', 'Precipitationmm', ' CloudCover', ' Events', 'WindDirDegrees']\n"
          ]
        }
      ]
    },
    {
      "cell_type": "code",
      "source": [
        "#Como podemos ver, hay muchas columans con nulos. Realmente tampoco hay que implementar\n",
        "#un modelo muy complejo, sino simplemente algo con lo que practicar con Flask\n",
        "\n",
        "#En este caso me voy a quedar con las más completas y más relevantes: 'Max TemperatureC',\n",
        "#'Mean TemperatureC','Min TemperatureC','Mean Humidity','Precipitationmm' y 'CloudCover'\n"
      ],
      "metadata": {
        "id": "-WE81jV3wz38"
      },
      "execution_count": 9,
      "outputs": []
    },
    {
      "cell_type": "code",
      "source": [
        "# Si no lo hiciste antes\n",
        "df.columns = df.columns.str.strip() #This line removes leading/trailing spaces from column names\n",
        "\n",
        "# Convertir a datetime\n",
        "df['CET'] = pd.to_datetime(df['CET'], errors='coerce') #Now, the column should be named 'CET'\n",
        "\n",
        "# Crear columna de mes y estación\n",
        "df['mes'] = df['CET'].dt.month\n",
        "\n",
        "def asignar_estacion(mes):\n",
        "    if mes in [12, 1, 2]:\n",
        "        return 'invierno'\n",
        "    elif mes in [3, 4, 5]:\n",
        "        return 'primavera'\n",
        "    elif mes in [6, 7, 8]:\n",
        "        return 'verano'\n",
        "    elif mes in [9, 10, 11]:\n",
        "        return 'otoño'\n",
        "\n",
        "df['estacion'] = df['mes'].apply(asignar_estacion)\n"
      ],
      "metadata": {
        "id": "sBJFc-ggyPRR"
      },
      "execution_count": 3,
      "outputs": []
    },
    {
      "cell_type": "code",
      "source": [
        "print(df.columns.tolist())"
      ],
      "metadata": {
        "colab": {
          "base_uri": "https://localhost:8080/"
        },
        "id": "RihDRrtGztqr",
        "outputId": "37137bd2-1df3-4e69-fc91-31c51860252c"
      },
      "execution_count": 4,
      "outputs": [
        {
          "output_type": "stream",
          "name": "stdout",
          "text": [
            "['CET', 'Max TemperatureC', 'Mean TemperatureC', 'Min TemperatureC', 'Dew PointC', 'MeanDew PointC', 'Min DewpointC', 'Max Humidity', 'Mean Humidity', 'Min Humidity', 'Max Sea Level PressurehPa', 'Mean Sea Level PressurehPa', 'Min Sea Level PressurehPa', 'Max VisibilityKm', 'Mean VisibilityKm', 'Min VisibilitykM', 'Max Wind SpeedKm/h', 'Mean Wind SpeedKm/h', 'Max Gust SpeedKm/h', 'Precipitationmm', 'CloudCover', 'Events', 'WindDirDegrees', 'mes', 'estacion']\n"
          ]
        }
      ]
    },
    {
      "cell_type": "code",
      "source": [
        "df.columns = df.columns.str.strip()"
      ],
      "metadata": {
        "id": "S4nAva05zvjf"
      },
      "execution_count": 5,
      "outputs": []
    },
    {
      "cell_type": "code",
      "source": [
        "df['CET'] = pd.to_datetime(df['CET'], errors='coerce')"
      ],
      "metadata": {
        "id": "X6J-TjfDzyP7"
      },
      "execution_count": 6,
      "outputs": []
    },
    {
      "cell_type": "code",
      "source": [
        "# Asegurate de que CET es datetime\n",
        "df['CET'] = pd.to_datetime(df['CET'], errors='coerce')\n",
        "\n",
        "# Crear una función que asigne estación\n",
        "def get_season(date):\n",
        "    month = date.month\n",
        "    if month in [12, 1, 2]:\n",
        "        return 'invierno'\n",
        "    elif month in [3, 4, 5]:\n",
        "        return 'primavera'\n",
        "    elif month in [6, 7, 8]:\n",
        "        return 'verano'\n",
        "    else:\n",
        "        return 'otoño'\n",
        "\n",
        "df['season'] = df['CET'].apply(get_season)\n"
      ],
      "metadata": {
        "id": "f-OjvdWN3cb2"
      },
      "execution_count": 7,
      "outputs": []
    },
    {
      "cell_type": "code",
      "source": [
        "from sklearn.model_selection import train_test_split\n",
        "from sklearn.ensemble import RandomForestClassifier\n",
        "from sklearn.metrics import accuracy_score, classification_report\n",
        "from sklearn.impute import SimpleImputer\n",
        "\n",
        "# Opcional: quitar espacios de columnas si aún no lo hiciste\n",
        "df.columns = df.columns.str.strip()\n",
        "\n",
        "# Elegimos las features numéricas más representativas (puedes ajustar)\n",
        "features = [\n",
        "    'Max TemperatureC', 'Mean TemperatureC', 'Min TemperatureC',\n",
        "    'Max Humidity', 'Mean Humidity', 'Min Humidity',\n",
        "    'Max Wind SpeedKm/h', 'Mean Wind SpeedKm/h',\n",
        "    'Precipitationmm'\n",
        "]\n",
        "\n",
        "# Quitar filas con valores faltantes solo en columnas seleccionadas\n",
        "X = df[features]\n",
        "y = df['season']\n",
        "\n",
        "# Imputamos valores faltantes si hay\n",
        "imputer = SimpleImputer(strategy='mean')\n",
        "X_imputed = imputer.fit_transform(X)\n",
        "\n",
        "# Dividir dataset\n",
        "X_train, X_test, y_train, y_test = train_test_split(X_imputed, y, test_size=0.2, random_state=42)\n"
      ],
      "metadata": {
        "id": "Ny97M6Gn3hHF"
      },
      "execution_count": 8,
      "outputs": []
    },
    {
      "cell_type": "code",
      "source": [
        "# Entrenar el modelo\n",
        "clf = RandomForestClassifier(n_estimators=100, random_state=42)\n",
        "clf.fit(X_train, y_train)\n",
        "\n",
        "# Predicciones\n",
        "y_pred = clf.predict(X_test)\n",
        "\n",
        "# Evaluación\n",
        "acc = accuracy_score(y_test, y_pred)\n",
        "print(f'Accuracy: {acc:.2f}')\n",
        "print(classification_report(y_test, y_pred))\n"
      ],
      "metadata": {
        "colab": {
          "base_uri": "https://localhost:8080/"
        },
        "id": "-EV11IK13kj9",
        "outputId": "c17923b5-c997-4275-e67f-7eeac4534e2f"
      },
      "execution_count": 9,
      "outputs": [
        {
          "output_type": "stream",
          "name": "stdout",
          "text": [
            "Accuracy: 0.69\n",
            "              precision    recall  f1-score   support\n",
            "\n",
            "    invierno       0.75      0.87      0.80       347\n",
            "       otoño       0.56      0.43      0.49       356\n",
            "   primavera       0.61      0.60      0.60       320\n",
            "      verano       0.77      0.84      0.81       340\n",
            "\n",
            "    accuracy                           0.69      1363\n",
            "   macro avg       0.67      0.69      0.68      1363\n",
            "weighted avg       0.67      0.69      0.68      1363\n",
            "\n"
          ]
        }
      ]
    },
    {
      "cell_type": "code",
      "source": [
        "import matplotlib.pyplot as plt\n",
        "import seaborn as sns\n",
        "\n",
        "importances = clf.feature_importances_\n",
        "feat_importance = pd.Series(importances, index=features).sort_values(ascending=False)\n",
        "\n",
        "plt.figure(figsize=(8, 4))\n",
        "sns.barplot(x=feat_importance, y=feat_importance.index)\n",
        "plt.title(\"Importancia de cada feature\")\n",
        "plt.xlabel(\"Importancia\")\n",
        "plt.ylabel(\"Feature\")\n",
        "plt.tight_layout()\n",
        "plt.show()\n"
      ],
      "metadata": {
        "colab": {
          "base_uri": "https://localhost:8080/",
          "height": 407
        },
        "id": "TWYUXdIo3n7n",
        "outputId": "b98a638b-4ca9-45ab-969c-d7de1be43827"
      },
      "execution_count": 10,
      "outputs": [
        {
          "output_type": "display_data",
          "data": {
            "text/plain": [
              "<Figure size 800x400 with 1 Axes>"
            ],
            "image/png": "[encoded data removed]"
          },
          "metadata": {}
        }
      ]
    },
    {
      "cell_type": "code",
      "source": [
        "from sklearn.model_selection import GridSearchCV\n",
        "from sklearn.ensemble import RandomForestClassifier\n",
        "\n",
        "#Defino el grid de hiperparámetros a buscar (este proceso lo he repetido 3 veces\n",
        "#hasta encontrar valores que se ajusten bien a lo que busco)\n",
        "param_grid = {\n",
        "    'n_estimators': [113, 125, 137],\n",
        "    'max_depth': [None, 7, 10, 13],\n",
        "    'min_samples_split': [11, 13, 15],\n",
        "    'min_samples_leaf': [1, 2, 3],\n",
        "    'bootstrap': [True, False]\n",
        "}\n",
        "\n",
        "#Creo el modelo base y configuro la búsqueda\n",
        "rf = RandomForestClassifier(random_state=42)\n",
        "grid_search = GridSearchCV(estimator=rf, param_grid=param_grid,\n",
        "                           cv=5, n_jobs=-1, verbose=2, scoring='accuracy')\n",
        "\n",
        "#Ejecutar\n",
        "grid_search.fit(X_train, y_train)\n",
        "\n",
        "#Y saco los resultados\n",
        "print(f\"Mejor accuracy: {grid_search.best_score_:.2f}\")\n",
        "print(\"Mejores parámetros:\")\n",
        "print(grid_search.best_params_)\n",
        "#Este último con el informe es muy util\n",
        "print(classification_report(y_test, y_pred, target_names=best_rf.classes_))\n",
        "\n",
        "#Como podemos ver, el modelo acierta la estación del año el 70% de las veces con los\n",
        "#datos de un sólo día\n",
        "#Puede parecer que no es gran cosa, pero hay que recordar un par de cosas:\n",
        "#Estamos jugando con cuatro salidas posibles y no con dos, como en muchos de los\n",
        "#problemas anteriores. Esto significa que si estimásemos la estación al azar, tendríamos\n",
        "#un 75% de fallar, por lo que acertar un 70% de las veces es muy significativo\n",
        "#Por otro lado, hay estaciones como otoño en las que nos podemos encontrar prácticamente\n",
        "#cualquier temperatura por ser la estación más cambiante"
      ],
      "metadata": {
        "colab": {
          "base_uri": "https://localhost:8080/"
        },
        "id": "BRgF8qBp4Hc_",
        "outputId": "132a984c-ee38-4361-e591-53a14ae8f20f"
      },
      "execution_count": 49,
      "outputs": [
        {
          "output_type": "stream",
          "name": "stdout",
          "text": [
            "Fitting 5 folds for each of 216 candidates, totalling 1080 fits\n",
            "Mejor accuracy: 0.70\n",
            "Mejores parámetros:\n",
            "{'bootstrap': True, 'max_depth': 10, 'min_samples_leaf': 1, 'min_samples_split': 15, 'n_estimators': 137}\n",
            "              precision    recall  f1-score   support\n",
            "\n",
            "    invierno       0.75      0.90      0.82       347\n",
            "       otoño       0.58      0.38      0.46       356\n",
            "   primavera       0.62      0.63      0.63       320\n",
            "      verano       0.76      0.87      0.81       340\n",
            "\n",
            "    accuracy                           0.69      1363\n",
            "   macro avg       0.68      0.70      0.68      1363\n",
            "weighted avg       0.68      0.69      0.68      1363\n",
            "\n"
          ]
        }
      ]
    },
    {
      "cell_type": "code",
      "source": [
        "#Bien, ya tengo un modelo que acierta la estación del año en base a los datos de\n",
        "#temperatura, humedad, viento y precipitaciones de un solo día.\n",
        "#Ahora hay que implementarlo en Flask"
      ],
      "metadata": {
        "id": "Uxk9hIDKjCvj"
      },
      "execution_count": null,
      "outputs": []
    }
  ]
}